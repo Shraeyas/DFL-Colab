{
  "nbformat": 4,
  "nbformat_minor": 0,
  "metadata": {
    "colab": {
      "name": "Untitled2.ipynb",
      "provenance": [],
      "collapsed_sections": [],
      "include_colab_link": true
    },
    "kernelspec": {
      "name": "python3",
      "display_name": "Python 3"
    },
    "accelerator": "GPU"
  },
  "cells": [
    {
      "cell_type": "markdown",
      "metadata": {
        "id": "view-in-github",
        "colab_type": "text"
      },
      "source": [
        "<a href=\"https://colab.research.google.com/github/Shraeyas/DFL-Colab/blob/master/DFL-Colab-Shraeyas.ipynb\" target=\"_parent\"><img src=\"https://colab.research.google.com/assets/colab-badge.svg\" alt=\"Open In Colab\"/></a>"
      ]
    },
    {
      "cell_type": "markdown",
      "metadata": {
        "id": "EJJ4UKEMArKV",
        "colab_type": "text"
      },
      "source": [
        "Test by the following command if your **GPU** is working."
      ]
    },
    {
      "cell_type": "code",
      "metadata": {
        "id": "-HfWi0_7A1I6",
        "colab_type": "code",
        "colab": {}
      },
      "source": [
        "!nvidia-smi"
      ],
      "execution_count": null,
      "outputs": []
    },
    {
      "cell_type": "markdown",
      "metadata": {
        "id": "CFjBER92GL0K",
        "colab_type": "text"
      },
      "source": [
        "##**In case, you get an error for the above code** :\n",
        "If you get this error **\"NVIDIA-SMI has failed because it couldn't communicate with the NVIDIA driver. Make sure that the latest NVIDIA driver is installed and running.\"**\n",
        "\n",
        "Go to **\"Runtime\"** from the menu bar and then click on **\"Change Runtime Type\"**, Select **GPU** as the Hardware Accelerator and click save.\n",
        "Then try and **run the above command again.**\n",
        "\n",
        "If it still doesn't work, that means **Google Colab has limited your resources** for now. The resources generally get refreshed after **12 hours**\n",
        "\n",
        "Not to mention, you can still try with a **different google account.**"
      ]
    },
    {
      "cell_type": "markdown",
      "metadata": {
        "id": "6oTKM2oAIWEQ",
        "colab_type": "text"
      },
      "source": [
        "------------------------------------------------------------------\n",
        "#**Prepare Your Data**\n",
        "------------------------------------------------------------------"
      ]
    },
    {
      "cell_type": "markdown",
      "metadata": {
        "id": "RZh5_qwKBR66",
        "colab_type": "text"
      },
      "source": [
        "Mount Your **Google Drive** by executing the following code."
      ]
    },
    {
      "cell_type": "code",
      "metadata": {
        "id": "q8BkJROCA33M",
        "colab_type": "code",
        "colab": {}
      },
      "source": [
        "from google.colab import drive\n",
        "drive.mount('/content/drive', force_remount=True)\n"
      ],
      "execution_count": null,
      "outputs": []
    },
    {
      "cell_type": "code",
      "metadata": {
        "id": "4g5tW612CE1U",
        "colab_type": "code",
        "colab": {}
      },
      "source": [
        "%cd \"drive\"\n",
        "%cd \"My Drive\""
      ],
      "execution_count": null,
      "outputs": []
    },
    {
      "cell_type": "markdown",
      "metadata": {
        "id": "qIWVkDqpc2NH",
        "colab_type": "text"
      },
      "source": [
        "Clone the Source Code from **Github** and Install **Requirements** using **PIP**"
      ]
    },
    {
      "cell_type": "code",
      "metadata": {
        "id": "WW7uMoMdDN02",
        "colab_type": "code",
        "colab": {}
      },
      "source": [
        "!git clone https://github.com/Shraeyas/DFL-Colab-Shraeyas \n",
        "%cd DFL-Colab-Shraeyas\n",
        "!pip install -r requirements-colab.txt\n",
        "!echo \"Done.\""
      ],
      "execution_count": null,
      "outputs": []
    },
    {
      "cell_type": "markdown",
      "metadata": {
        "id": "HXVEv3M0r8Kn",
        "colab_type": "text"
      },
      "source": [
        "------------------------------------------------------------------\n",
        "##If you clicked on **RESTART RUNTIME** in the above step, then execute the following lines.\n",
        "------------------------------------------------------------------"
      ]
    },
    {
      "cell_type": "code",
      "metadata": {
        "colab_type": "code",
        "id": "HeLbgUiO1k3Q",
        "colab": {}
      },
      "source": [
        "from google.colab import drive\n",
        "drive.mount('/content/drive', force_remount=True)\n",
        "%cd \"drive\"\n",
        "%cd \"My Drive\"\n",
        "%cd \"DFL-Colab-Shraeyas\"\n",
        "!pip install -r requirements-colab.txt"
      ],
      "execution_count": null,
      "outputs": []
    },
    {
      "cell_type": "markdown",
      "metadata": {
        "id": "AAKODZEWda8i",
        "colab_type": "text"
      },
      "source": [
        "------------------------------------------------------------------\n",
        "#**Add your data_dst and data_src video files**\n",
        "------------------------------------------------------------------\n",
        "\n",
        "The Above Step will will create a Folder Called **DFL-Colab-Shraeyas** on your **Google Drive**.\n",
        "\n",
        "Inside that folder, there is a **workspace** folder.\n",
        "\n",
        "You need to place your **data_dst.mp4** and **data_src.mp4** inside that folder.\n"
      ]
    },
    {
      "cell_type": "code",
      "metadata": {
        "id": "kT33XDMcN1R1",
        "colab_type": "code",
        "colab": {}
      },
      "source": [
        "from google.colab import drive\n",
        "drive.mount('/content/drive', force_remount=True)\n"
      ],
      "execution_count": null,
      "outputs": []
    },
    {
      "cell_type": "code",
      "metadata": {
        "id": "N0gupVl4OVYa",
        "colab_type": "code",
        "colab": {}
      },
      "source": [
        "%cd \"drive\"\n",
        "%cd \"My Drive\"\n",
        "%cd \"DFL-Colab-Shraeyas\""
      ],
      "execution_count": null,
      "outputs": []
    },
    {
      "cell_type": "markdown",
      "metadata": {
        "id": "pzkKM783dJcx",
        "colab_type": "text"
      },
      "source": [
        "------------------------------------------------------------------\n",
        "#**Extract Frames From Video**\n",
        "------------------------------------------------------------------\n"
      ]
    },
    {
      "cell_type": "markdown",
      "metadata": {
        "id": "_JrrvKLudVDI",
        "colab_type": "text"
      },
      "source": [
        "Extract Frames From **data_dst**"
      ]
    },
    {
      "cell_type": "code",
      "metadata": {
        "id": "arGQyxzpc0Bb",
        "colab_type": "code",
        "colab": {}
      },
      "source": [
        "!python main.py videoed extract-video --input-file workspace/data_dst.* --output-dir workspace/data_dst/"
      ],
      "execution_count": null,
      "outputs": []
    },
    {
      "cell_type": "markdown",
      "metadata": {
        "id": "1EfcAoW3eyq2",
        "colab_type": "text"
      },
      "source": [
        "Extract Frames From **data_src**"
      ]
    },
    {
      "cell_type": "code",
      "metadata": {
        "id": "GklDesBge2MA",
        "colab_type": "code",
        "colab": {}
      },
      "source": [
        "!python main.py videoed extract-video --input-file workspace/data_src.* --output-dir workspace/data_src/"
      ],
      "execution_count": null,
      "outputs": []
    },
    {
      "cell_type": "markdown",
      "metadata": {
        "id": "iOSpmiRLe1l_",
        "colab_type": "text"
      },
      "source": [
        "------------------------------------------------------------------\n",
        "#**Denoise Faces**\n",
        "------------------------------------------------------------------\n"
      ]
    },
    {
      "cell_type": "markdown",
      "metadata": {
        "id": "GYTpld2cfOx8",
        "colab_type": "text"
      },
      "source": [
        "Denoise Frames From **data_dst**"
      ]
    },
    {
      "cell_type": "code",
      "metadata": {
        "id": "sz50c4SQfOOe",
        "colab_type": "code",
        "colab": {}
      },
      "source": [
        "!python main.py videoed denoise-image-sequence --input-dir workspace/data_dst"
      ],
      "execution_count": null,
      "outputs": []
    },
    {
      "cell_type": "markdown",
      "metadata": {
        "id": "NVSZT6LLfu0w",
        "colab_type": "text"
      },
      "source": [
        "Denoise Frames From **data_src**"
      ]
    },
    {
      "cell_type": "code",
      "metadata": {
        "id": "ciVsem3Efza6",
        "colab_type": "code",
        "colab": {}
      },
      "source": [
        "!python main.py videoed denoise-image-sequence --input-dir workspace/data_src"
      ],
      "execution_count": null,
      "outputs": []
    },
    {
      "cell_type": "markdown",
      "metadata": {
        "id": "iAuTXApEf3lX",
        "colab_type": "text"
      },
      "source": [
        "------------------------------------------------------------------\n",
        "#**Detect Faces and Align**\n",
        "------------------------------------------------------------------\n"
      ]
    },
    {
      "cell_type": "code",
      "metadata": {
        "id": "sqkB45Rsf_eW",
        "colab_type": "code",
        "cellView": "form",
        "colab": {}
      },
      "source": [
        "#@markdown Select the Type of **Detector** (s3fd recommended) and **FaceType**\n",
        "Detector = \"s3fd\" #@param [\"s3fd\", \"manual\"]\n",
        "FaceType = \"head\" #@param [\"head\", \"half_face\", \"full_face\", \"whole_face\", \"mark_only\"]"
      ],
      "execution_count": null,
      "outputs": []
    },
    {
      "cell_type": "code",
      "metadata": {
        "id": "TP958r8AiQZH",
        "colab_type": "code",
        "cellView": "form",
        "colab": {}
      },
      "source": [
        "#@markdown ###For **data_dst**\n",
        "#@markdown <sup>**!python** main.py **extract** --input-dir workspace/data_dst --output-dir workspace/data_dst/aligned --face-type \" + $FaceType + \" --detector \" + $Detector</sup>\n",
        "\n",
        "cmd = \"main.py extract --input-dir workspace/data_dst --output-dir workspace/data_dst/aligned --face-type \" + FaceType + \" --detector \" + Detector\n",
        "!python $cmd"
      ],
      "execution_count": null,
      "outputs": []
    },
    {
      "cell_type": "code",
      "metadata": {
        "id": "yfg_yK2jnjeJ",
        "colab_type": "code",
        "cellView": "form",
        "colab": {}
      },
      "source": [
        "#@markdown ###For **data_src**\n",
        "#@markdown <sup>**!python** main.py **extract** --input-dir workspace/data_src --output-dir workspace/data_src/aligned --face-type \" + $FaceType + \" --detector \" + $Detector</sup>\n",
        "\n",
        "cmd = \"main.py extract --input-dir workspace/data_src --output-dir workspace/data_src/aligned --face-type \" + FaceType + \" --detector \" + Detector\n",
        "!python $cmd"
      ],
      "execution_count": null,
      "outputs": []
    },
    {
      "cell_type": "markdown",
      "metadata": {
        "id": "fF0FXL6roDlJ",
        "colab_type": "text"
      },
      "source": [
        "------------------------------------------------------------------\n",
        "#**Sort Aligned Faces**\n",
        "------------------------------------------------------------------\n"
      ]
    },
    {
      "cell_type": "code",
      "metadata": {
        "id": "P0oPfb3poLDq",
        "colab_type": "code",
        "cellView": "form",
        "colab": {}
      },
      "source": [
        "#@markdown Select **sort type** (absdiff recommended)\n",
        "sort_type = \"absdiff\" #@param [\"absdiff\", \"brightness\", \"hist\", \"hist-dissim\", \"face-yaw\", \"face-pitch\", \"vggface\", \"blur\", \"final\", \"final-no-blur\"]"
      ],
      "execution_count": null,
      "outputs": []
    },
    {
      "cell_type": "code",
      "metadata": {
        "id": "JVahR9ZKop6E",
        "colab_type": "code",
        "cellView": "form",
        "colab": {}
      },
      "source": [
        "#@markdown For **data_dst**\n",
        "\n",
        "#@markdown <sup>**!python** main.py **sort** --input-dir workspace/data_dst/aligned --by \" + $sort_type\n",
        "\n",
        "cmd = \"main.py sort --input-dir workspace/data_dst/aligned --by \"+sort_type\n",
        "!python $cmd"
      ],
      "execution_count": null,
      "outputs": []
    },
    {
      "cell_type": "code",
      "metadata": {
        "id": "-YQl-MOrpJit",
        "colab_type": "code",
        "cellView": "form",
        "colab": {}
      },
      "source": [
        "#@markdown For **data_src**\n",
        "\n",
        "#@markdown <sup>**!python** main.py **sort** --input-dir workspace/data_src/aligned --by \" + $sort_type\n",
        "\n",
        "cmd = \"main.py sort --input-dir workspace/data_src/aligned --by \"+sort_type\n",
        "!python $cmd"
      ],
      "execution_count": null,
      "outputs": []
    },
    {
      "cell_type": "markdown",
      "metadata": {
        "id": "XQ4GHbu0pRNP",
        "colab_type": "text"
      },
      "source": [
        "------------------------------------------------------------------\n",
        "#**Faceset Enhance**\n",
        "------------------------------------------------------------------"
      ]
    },
    {
      "cell_type": "code",
      "metadata": {
        "id": "RX8tvkFJpWsc",
        "colab_type": "code",
        "cellView": "form",
        "colab": {}
      },
      "source": [
        "#@markdown For **data_dst**\n",
        "\n",
        "#@markdown <sup>**!python** main.py **facesettool** enhance --input-dir /workspace/data_dst/aligned</sup>\n",
        "!python main.py facesettool enhance --input-dir /workspace/data_dst/aligned"
      ],
      "execution_count": null,
      "outputs": []
    },
    {
      "cell_type": "code",
      "metadata": {
        "id": "8SbnaIMsp9zL",
        "colab_type": "code",
        "cellView": "form",
        "colab": {}
      },
      "source": [
        "#@markdown For **data_src**\n",
        "\n",
        "#@markdown <sup>**!python** main.py **facesettool** enhance --input-dir /workspace/data_src/aligned</sup>\n",
        "!python main.py facesettool enhance --input-dir /workspace/data_src/aligned"
      ],
      "execution_count": null,
      "outputs": []
    },
    {
      "cell_type": "markdown",
      "metadata": {
        "id": "XrQe1reNqHz2",
        "colab_type": "text"
      },
      "source": [
        "------------------------------------------------------------------\n",
        "#**Train Model**\n",
        "------------------------------------------------------------------"
      ]
    },
    {
      "cell_type": "code",
      "metadata": {
        "id": "V66ifcn8qKfb",
        "colab_type": "code",
        "cellView": "form",
        "colab": {}
      },
      "source": [
        "Model = \"SAEHD\" #@param [\"SAEHD\", \"SAE\", \"Quick96\", \"H128\", \"LIAEF128\", \"DF\", \"AVATAR\", \"DEV_FANSEG\"]\n",
        "\n",
        "#@markdown <sup>**!python** main.py **train** **--training-data-src-dir** workspace/data_src/aligned **--training-data-dst-dir** workspace/data_dst/aligned **--pretraining-data-dir** pretrain **--model-dir** workspace/model **--model** \" + $Model</sup>\n",
        "cmd = \"main.py train --training-data-src-dir workspace/data_src/aligned --training-data-dst-dir workspace/data_dst/aligned --pretraining-data-dir pretrain --model-dir workspace/model --model \" + Model\n",
        "\n",
        "!python $cmd"
      ],
      "execution_count": null,
      "outputs": []
    },
    {
      "cell_type": "markdown",
      "metadata": {
        "id": "69fUSgG_r2CW",
        "colab_type": "text"
      },
      "source": [
        "------------------------------------------------------------------\n",
        "#**Convert frames**\n",
        "------------------------------------------------------------------"
      ]
    },
    {
      "cell_type": "code",
      "metadata": {
        "id": "7VUDQQcnr1pQ",
        "colab_type": "code",
        "cellView": "form",
        "colab": {}
      },
      "source": [
        "#@title Convert\n",
        "Model = \"SAEHD\" #@param [\"SAEHD\", \"SAE\", \"Quick96\", \"H128\", \"LIAEF128\", \"DF\"]\n",
        "\n",
        "#@markdown <sup>**!python** \"main.py **convert** **--input-dir** workspace/data_dst/aligned **--output-dir** workspace/data_dst/merged **--model-dir** workspace/model **--model** \" + $Model</sup>\n",
        "if Model == \"AVATAR\":  \n",
        "  cmd = \"main.py merge --input-dir workspace/data_dst/aligned --output-dir workspace/data_dst/merged --model-dir workspace/model --model \"+Model\n",
        "else:\n",
        "  cmd = \"main.py merge --input-dir workspace/data_dst --output-dir workspace/data_dst/merged --output-mask-dir workspace/data_dst/merged_mask --aligned-dir workspace/data_dst/aligned --model-dir workspace/model --model \"+Model\n",
        "\n",
        "!python $cmd"
      ],
      "execution_count": null,
      "outputs": []
    },
    {
      "cell_type": "markdown",
      "metadata": {
        "id": "HPdlGd1wstJx",
        "colab_type": "text"
      },
      "source": [
        "------------------------------------------------------------------\n",
        "#**Get Final Result Video**\n",
        "------------------------------------------------------------------"
      ]
    },
    {
      "cell_type": "code",
      "metadata": {
        "id": "kz9VPIe2sybv",
        "colab_type": "code",
        "colab": {}
      },
      "source": [
        "!python main.py videoed video-from-sequence --input-dir workspace/data_dst/merged --output-file workspace/result.mp4 --reference-file workspace/data_dst.mp4"
      ],
      "execution_count": null,
      "outputs": []
    },
    {
      "cell_type": "markdown",
      "metadata": {
        "colab_type": "text",
        "id": "g2eWBrdK1w_7"
      },
      "source": [
        "------------------------------------------------------------------\n",
        "###If your session got **DISCONNECTED** or you want to **RESUME your work from a different account**, then execute the following lines of code.\n",
        "------------------------------------------------------------------"
      ]
    },
    {
      "cell_type": "code",
      "metadata": {
        "colab_type": "code",
        "id": "liFaO2EP1xAF",
        "colab": {}
      },
      "source": [
        "from google.colab import drive\n",
        "drive.mount('/content/drive', force_remount=True)\n",
        "%cd \"drive\"\n",
        "%cd \"My Drive\"\n",
        "%cd \"DFL-Colab-Shraeyas\"\n",
        "!pip install -r requirements-colab.txt"
      ],
      "execution_count": null,
      "outputs": []
    },
    {
      "cell_type": "markdown",
      "metadata": {
        "colab_type": "text",
        "id": "CV0Im7tj2FYa"
      },
      "source": [
        "###**After excuting these lines, simply continue with the step you were doing before.**"
      ]
    }
  ]
}