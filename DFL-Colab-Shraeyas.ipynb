{
  "nbformat": 4,
  "nbformat_minor": 0,
  "metadata": {
    "colab": {
      "name": "Untitled2.ipynb",
      "provenance": [],
      "collapsed_sections": []
    },
    "kernelspec": {
      "name": "python3",
      "display_name": "Python 3"
    }
  },
  "cells": [
    {
      "cell_type": "markdown",
      "metadata": {
        "id": "EJJ4UKEMArKV",
        "colab_type": "text"
      },
      "source": [
        "Test by the following command if your **GPU** is working."
      ]
    },
    {
      "cell_type": "code",
      "metadata": {
        "id": "-HfWi0_7A1I6",
        "colab_type": "code",
        "colab": {
          "base_uri": "https://localhost:8080/",
          "height": 92
        },
        "outputId": "90102fff-276b-42d8-a6c4-95acc7377666"
      },
      "source": [
        "!nvidia-smi"
      ],
      "execution_count": 22,
      "outputs": [
        {
          "output_type": "stream",
          "text": [
            "shell-init: error retrieving current directory: getcwd: cannot access parent directories: No such file or directory\n",
            "NVIDIA-SMI has failed because it couldn't communicate with the NVIDIA driver. Make sure that the latest NVIDIA driver is installed and running.\n",
            "\n"
          ],
          "name": "stdout"
        }
      ]
    },
    {
      "cell_type": "markdown",
      "metadata": {
        "id": "RZh5_qwKBR66",
        "colab_type": "text"
      },
      "source": [
        "Mount Your **Google Drive** by executing the following code."
      ]
    },
    {
      "cell_type": "code",
      "metadata": {
        "id": "q8BkJROCA33M",
        "colab_type": "code",
        "colab": {
          "base_uri": "https://localhost:8080/",
          "height": 128
        },
        "outputId": "b33a6d33-189c-4e25-8be1-aa40a0fc8966"
      },
      "source": [
        "from google.colab import drive\n",
        "drive.mount('/content/drive', force_remount=True)\n"
      ],
      "execution_count": 1,
      "outputs": [
        {
          "output_type": "stream",
          "text": [
            "Go to this URL in a browser: https://accounts.google.com/o/oauth2/auth?client_id=947318989803-6bn6qk8qdgf4n4g3pfee6491hc0brc4i.apps.googleusercontent.com&redirect_uri=urn%3aietf%3awg%3aoauth%3a2.0%3aoob&response_type=code&scope=email%20https%3a%2f%2fwww.googleapis.com%2fauth%2fdocs.test%20https%3a%2f%2fwww.googleapis.com%2fauth%2fdrive%20https%3a%2f%2fwww.googleapis.com%2fauth%2fdrive.photos.readonly%20https%3a%2f%2fwww.googleapis.com%2fauth%2fpeopleapi.readonly\n",
            "\n",
            "Enter your authorization code:\n",
            "··········\n",
            "Mounted at /content/drive\n"
          ],
          "name": "stdout"
        }
      ]
    },
    {
      "cell_type": "code",
      "metadata": {
        "id": "4g5tW612CE1U",
        "colab_type": "code",
        "colab": {
          "base_uri": "https://localhost:8080/",
          "height": 53
        },
        "outputId": "37d0c858-5717-483f-fb8d-afdc12f161dd"
      },
      "source": [
        "cd \"My Drive\"\n"
      ],
      "execution_count": 9,
      "outputs": [
        {
          "output_type": "stream",
          "text": [
            "[Errno 2] No such file or directory: 'My Drive'\n",
            "/content/drive/My Drive\n"
          ],
          "name": "stdout"
        }
      ]
    },
    {
      "cell_type": "markdown",
      "metadata": {
        "id": "qIWVkDqpc2NH",
        "colab_type": "text"
      },
      "source": [
        "Clone the Source Code from **Github** and Install **Requirements** using **PIP**"
      ]
    },
    {
      "cell_type": "code",
      "metadata": {
        "id": "WW7uMoMdDN02",
        "colab_type": "code",
        "colab": {}
      },
      "source": [
        "!git clone https://github.com/Shraeyas/DFL-Colab-Shraeyas\n",
        "cd DFL-Colab-Shraeyas\n",
        "!pip install -r requirements-colab.txt"
      ],
      "execution_count": 11,
      "outputs": []
    },
    {
      "cell_type": "markdown",
      "metadata": {
        "id": "AAKODZEWda8i",
        "colab_type": "text"
      },
      "source": [
        "Now, this will create a Folder Called **DFL-Colab-Shraeyas** on your **Google Drive**.\n",
        "\n",
        "Inside that folder, there is a **workspace** folder.\n",
        "\n",
        "You need to place your **data_dst.mp4** and **data_src.mp4** inside that folder.\n"
      ]
    },
    {
      "cell_type": "markdown",
      "metadata": {
        "id": "pzkKM783dJcx",
        "colab_type": "text"
      },
      "source": [
        "------------------------------------------------------------------\n",
        "#**Extract Frames From Video**\n",
        "------------------------------------------------------------------\n"
      ]
    },
    {
      "cell_type": "markdown",
      "metadata": {
        "id": "_JrrvKLudVDI",
        "colab_type": "text"
      },
      "source": [
        "Extract Frames From **data_dst**"
      ]
    },
    {
      "cell_type": "code",
      "metadata": {
        "id": "arGQyxzpc0Bb",
        "colab_type": "code",
        "colab": {}
      },
      "source": [
        "!python main.py videoed extract-video --input-file workspace/data_dst.* --output-dir workspace/data_dst/"
      ],
      "execution_count": null,
      "outputs": []
    },
    {
      "cell_type": "markdown",
      "metadata": {
        "id": "1EfcAoW3eyq2",
        "colab_type": "text"
      },
      "source": [
        "Extract Frames From **data_src**"
      ]
    },
    {
      "cell_type": "code",
      "metadata": {
        "id": "GklDesBge2MA",
        "colab_type": "code",
        "colab": {}
      },
      "source": [
        "!python main.py videoed extract-video --input-file workspace/data_src.* --output-dir workspace/data_src/"
      ],
      "execution_count": null,
      "outputs": []
    },
    {
      "cell_type": "markdown",
      "metadata": {
        "id": "iOSpmiRLe1l_",
        "colab_type": "text"
      },
      "source": [
        "------------------------------------------------------------------\n",
        "#**Denoise**\n",
        "------------------------------------------------------------------\n"
      ]
    },
    {
      "cell_type": "markdown",
      "metadata": {
        "id": "GYTpld2cfOx8",
        "colab_type": "text"
      },
      "source": [
        "Denoise Frames From **data_dst**"
      ]
    },
    {
      "cell_type": "code",
      "metadata": {
        "id": "sz50c4SQfOOe",
        "colab_type": "code",
        "colab": {}
      },
      "source": [
        "!python main.py videoed denoise-image-sequence --input-dir workspace/data_dst"
      ],
      "execution_count": null,
      "outputs": []
    },
    {
      "cell_type": "markdown",
      "metadata": {
        "id": "NVSZT6LLfu0w",
        "colab_type": "text"
      },
      "source": [
        "Denoise Frames From **data_src**"
      ]
    },
    {
      "cell_type": "code",
      "metadata": {
        "id": "ciVsem3Efza6",
        "colab_type": "code",
        "colab": {}
      },
      "source": [
        "!python main.py videoed denoise-image-sequence --input-dir workspace/data_src"
      ],
      "execution_count": null,
      "outputs": []
    },
    {
      "cell_type": "markdown",
      "metadata": {
        "id": "iAuTXApEf3lX",
        "colab_type": "text"
      },
      "source": [
        "------------------------------------------------------------------\n",
        "#**Detect Faces and Align**\n",
        "------------------------------------------------------------------\n"
      ]
    },
    {
      "cell_type": "code",
      "metadata": {
        "id": "sqkB45Rsf_eW",
        "colab_type": "code",
        "colab": {},
        "cellView": "both"
      },
      "source": [
        "#@markdown Select the Type of **Detector** (s3fd recommended) and **FaceType**\n",
        "Detector = \"s3fd\" #@param [\"s3fd\", \"manual\"]\n",
        "FaceType = \"whole_face\" #@param [\"head\", \"half_face\", \"full_face\", \"whole_face\", \"mark_only\"]"
      ],
      "execution_count": 20,
      "outputs": []
    },
    {
      "cell_type": "code",
      "metadata": {
        "id": "TP958r8AiQZH",
        "colab_type": "code",
        "colab": {
          "base_uri": "https://localhost:8080/",
          "height": 72
        },
        "outputId": "a0bc2aa5-4ecf-407b-f465-43156bc2b9e5"
      },
      "source": [
        "#@markdown ###For **data_dst**\n",
        "#@markdown <sup>**!python** main.py **extract** --input-dir workspace/data_dst --output-dir workspace/data_dst/aligned --face-type \" + $FaceType + \" --detector \" + $Detector</sup>\n",
        "\n",
        "cmd = \"main.py extract --input-dir workspace/data_dst --output-dir workspace/data_dst/aligned --face-type \" + FaceType + \" --detector \" + Detector\n",
        "!python $cmd"
      ],
      "execution_count": 21,
      "outputs": [
        {
          "output_type": "stream",
          "text": [
            "shell-init: error retrieving current directory: getcwd: cannot access parent directories: No such file or directory\n",
            "shell-init: error retrieving current directory: getcwd: cannot access parent directories: No such file or directory\n",
            "python3: can't open file 'main.py': [Errno 2] No such file or directory\n"
          ],
          "name": "stdout"
        }
      ]
    },
    {
      "cell_type": "code",
      "metadata": {
        "id": "yfg_yK2jnjeJ",
        "colab_type": "code",
        "colab": {}
      },
      "source": [
        "#@markdown ###For **data_src**\n",
        "#@markdown <sup>**!python** main.py **extract** --input-dir workspace/data_src --output-dir workspace/data_src/aligned --face-type \" + $FaceType + \" --detector \" + $Detector</sup>\n",
        "\n",
        "cmd = \"main.py extract --input-dir workspace/data_src --output-dir workspace/data_src/aligned --face-type \" + FaceType + \" --detector \" + Detector\n",
        "!python $cmd"
      ],
      "execution_count": null,
      "outputs": []
    },
    {
      "cell_type": "markdown",
      "metadata": {
        "id": "fF0FXL6roDlJ",
        "colab_type": "text"
      },
      "source": [
        "------------------------------------------------------------------\n",
        "#**Sort Aligned Faces**\n",
        "------------------------------------------------------------------\n"
      ]
    },
    {
      "cell_type": "code",
      "metadata": {
        "id": "P0oPfb3poLDq",
        "colab_type": "code",
        "colab": {}
      },
      "source": [
        "#@markdown Select **sort type** (absdiff recommended)\n",
        "sort_type = \"absdiff\" #@param [\"absdiff\",\"hist\", \"hist-dissim\", \"face-yaw\", \"face-pitch\", \"vggface\", \"blur\", \"final\", \"final-no-blur\"]"
      ],
      "execution_count": null,
      "outputs": []
    },
    {
      "cell_type": "code",
      "metadata": {
        "id": "JVahR9ZKop6E",
        "colab_type": "code",
        "colab": {}
      },
      "source": [
        "#@markdown For **data_dst**\n",
        "\n",
        "#@markdown <sup>**!python** main.py **sort** --input-dir workspace/data_dst/aligned --by \" + $sort_type\n",
        "\n",
        "cmd = \"main.py sort --input-dir workspace/data_dst/aligned --by \"+sort_type\n",
        "!python $cmd"
      ],
      "execution_count": null,
      "outputs": []
    },
    {
      "cell_type": "code",
      "metadata": {
        "id": "-YQl-MOrpJit",
        "colab_type": "code",
        "colab": {}
      },
      "source": [
        "#@markdown For **data_src**\n",
        "\n",
        "#@markdown <sup>**!python** main.py **sort** --input-dir workspace/data_src/aligned --by \" + $sort_type\n",
        "\n",
        "cmd = \"main.py sort --input-dir workspace/data_src/aligned --by \"+sort_type\n",
        "!python $cmd"
      ],
      "execution_count": null,
      "outputs": []
    },
    {
      "cell_type": "markdown",
      "metadata": {
        "id": "XQ4GHbu0pRNP",
        "colab_type": "text"
      },
      "source": [
        "------------------------------------------------------------------\n",
        "#**Faceset Enhance**\n",
        "------------------------------------------------------------------"
      ]
    },
    {
      "cell_type": "code",
      "metadata": {
        "id": "RX8tvkFJpWsc",
        "colab_type": "code",
        "colab": {}
      },
      "source": [
        "#@markdown For **data_dst**\n",
        "\n",
        "#@markdown <sup>**!python** main.py **facesettool** enhance --input-dir /workspace/data_dst/aligned</sup>\n",
        "!python main.py facesettool enhance --input-dir /workspace/data_dst/aligned"
      ],
      "execution_count": null,
      "outputs": []
    },
    {
      "cell_type": "code",
      "metadata": {
        "id": "8SbnaIMsp9zL",
        "colab_type": "code",
        "colab": {}
      },
      "source": [
        "#@markdown For **data_src**\n",
        "\n",
        "#@markdown <sup>**!python** main.py **facesettool** enhance --input-dir /workspace/data_src/aligned</sup>\n",
        "!python main.py facesettool enhance --input-dir /workspace/data_src/aligned"
      ],
      "execution_count": null,
      "outputs": []
    },
    {
      "cell_type": "markdown",
      "metadata": {
        "id": "XrQe1reNqHz2",
        "colab_type": "text"
      },
      "source": [
        "------------------------------------------------------------------\n",
        "#**Train Model**\n",
        "------------------------------------------------------------------"
      ]
    },
    {
      "cell_type": "code",
      "metadata": {
        "id": "V66ifcn8qKfb",
        "colab_type": "code",
        "colab": {}
      },
      "source": [
        "Model = \"SAEHD\" #@param [\"SAEHD\", \"SAE\", \"Quick96\", \"H128\", \"LIAEF128\", \"DF\", \"AVATAR\", \"DEV_FANSEG\"]\n",
        "\n",
        "#@markdown <sup>**!python** main.py **train** **--training-data-src-dir** workspace/data_src/aligned **--training-data-dst-dir** workspace/data_dst/aligned **--pretraining-data-dir** pretrain **--model-dir** workspace/model **--model** \" + $Model</sup>\n",
        "cmd = \"main.py train --training-data-src-dir workspace/data_src/aligned --training-data-dst-dir workspace/data_dst/aligned --pretraining-data-dir pretrain --model-dir workspace/model --model \" + Model\n",
        "\n",
        "!python $cmd"
      ],
      "execution_count": null,
      "outputs": []
    },
    {
      "cell_type": "markdown",
      "metadata": {
        "id": "69fUSgG_r2CW",
        "colab_type": "text"
      },
      "source": [
        "------------------------------------------------------------------\n",
        "#**Convert frames**\n",
        "------------------------------------------------------------------"
      ]
    },
    {
      "cell_type": "code",
      "metadata": {
        "id": "7VUDQQcnr1pQ",
        "colab_type": "code",
        "colab": {}
      },
      "source": [
        "#@title Convert\n",
        "Model = \"SAEHD\" #@param [\"SAEHD\", \"SAE\", \"Quick96\", \"H128\", \"LIAEF128\", \"DF\"]\n",
        "\n",
        "#@markdown <sup>**!python** \"main.py **convert** **--input-dir** workspace/data_dst/aligned **--output-dir** workspace/data_dst/merged **--model-dir** workspace/model **--model** \" + $Model</sup>\n",
        "if Model == \"AVATAR\":  \n",
        "  cmd = \"main.py convert --input-dir workspace/data_dst/aligned --output-dir workspace/data_dst/merged --model-dir workspace/model --model \"+Model\n",
        "else:\n",
        "  cmd = \"main.py convert --input-dir workspace/data_dst --output-dir workspace/data_dst/merged --aligned-dir workspace/data_dst/aligned --model-dir workspace/model --model \"+Model\n",
        "\n",
        "!python $cmd"
      ],
      "execution_count": null,
      "outputs": []
    },
    {
      "cell_type": "markdown",
      "metadata": {
        "id": "HPdlGd1wstJx",
        "colab_type": "text"
      },
      "source": [
        "------------------------------------------------------------------\n",
        "#**Get Final Result Video**\n",
        "------------------------------------------------------------------"
      ]
    },
    {
      "cell_type": "code",
      "metadata": {
        "id": "kz9VPIe2sybv",
        "colab_type": "code",
        "colab": {}
      },
      "source": [
        "!python main.py videoed video-from-sequence --input-dir workspace/data_dst/merged --output-file workspace/result.mp4 --reference-file workspace/data_dst.mp4"
      ],
      "execution_count": null,
      "outputs": []
    }
  ]
}